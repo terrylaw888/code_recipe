{
 "cells": [
  {
   "cell_type": "code",
   "execution_count": null,
   "metadata": {
    "collapsed": true
   },
   "outputs": [],
   "source": [
    "## Fit my first model\n",
    "## saved my model + weights in JSON and H5 format"
   ]
  },
  {
   "cell_type": "code",
   "execution_count": 81,
   "metadata": {
    "collapsed": false
   },
   "outputs": [],
   "source": [
    "from keras.models import Sequential\n",
    "from keras.layers import Dense\n",
    "from keras.models import model_from_json\n",
    "import numpy\n",
    "import os\n",
    "import h5py\n",
    "# fix random seed for reproducibility\n",
    "seed = 7\n",
    "numpy.random.seed(seed)"
   ]
  },
  {
   "cell_type": "code",
   "execution_count": 82,
   "metadata": {
    "collapsed": false
   },
   "outputs": [],
   "source": [
    "# load pima indians dataset\n",
    "dataset = numpy.loadtxt(\"pima-indians-diabetes.csv\", delimiter=\",\")\n",
    "# split into input (X) and output (Y) variables\n",
    "X = dataset[:,0:8]\n",
    "Y = dataset[:,8]"
   ]
  },
  {
   "cell_type": "code",
   "execution_count": 83,
   "metadata": {
    "collapsed": false
   },
   "outputs": [
    {
     "name": "stderr",
     "output_type": "stream",
     "text": [
      "/Users/ctlaw/anaconda/lib/python2.7/site-packages/ipykernel/__main__.py:3: UserWarning: Update your `Dense` call to the Keras 2 API: `Dense(12, activation=\"relu\", kernel_initializer=\"uniform\", input_dim=8)`\n",
      "  app.launch_new_instance()\n",
      "/Users/ctlaw/anaconda/lib/python2.7/site-packages/ipykernel/__main__.py:4: UserWarning: Update your `Dense` call to the Keras 2 API: `Dense(8, activation=\"relu\", kernel_initializer=\"uniform\")`\n",
      "/Users/ctlaw/anaconda/lib/python2.7/site-packages/ipykernel/__main__.py:5: UserWarning: Update your `Dense` call to the Keras 2 API: `Dense(1, activation=\"sigmoid\", kernel_initializer=\"uniform\")`\n"
     ]
    }
   ],
   "source": [
    "# create model\n",
    "model = Sequential()\n",
    "model.add(Dense(12, input_dim=8, init='uniform', activation='relu')) \n",
    "model.add(Dense(8, init='uniform', activation='relu')) \n",
    "model.add(Dense(1, init='uniform', activation='sigmoid'))"
   ]
  },
  {
   "cell_type": "code",
   "execution_count": 85,
   "metadata": {
    "collapsed": true
   },
   "outputs": [],
   "source": [
    "# Compile model\n",
    "model.compile(loss='binary_crossentropy', optimizer='adam', metrics=['accuracy'])"
   ]
  },
  {
   "cell_type": "code",
   "execution_count": 86,
   "metadata": {
    "collapsed": false
   },
   "outputs": [
    {
     "name": "stdout",
     "output_type": "stream",
     "text": [
      "Epoch 1/150\n",
      "768/768 [==============================] - 0s - loss: 0.6787 - acc: 0.6510     \n",
      "Epoch 2/150\n",
      "768/768 [==============================] - 0s - loss: 0.6617 - acc: 0.6510     \n",
      "Epoch 3/150\n",
      "768/768 [==============================] - 0s - loss: 0.6538 - acc: 0.6510     \n",
      "Epoch 4/150\n",
      "768/768 [==============================] - 0s - loss: 0.6490 - acc: 0.6510     \n",
      "Epoch 5/150\n",
      "768/768 [==============================] - 0s - loss: 0.6394 - acc: 0.6589     \n",
      "Epoch 6/150\n",
      "768/768 [==============================] - 0s - loss: 0.6223 - acc: 0.6810     \n",
      "Epoch 7/150\n",
      "768/768 [==============================] - 0s - loss: 0.6153 - acc: 0.6810     \n",
      "Epoch 8/150\n",
      "768/768 [==============================] - 0s - loss: 0.6029 - acc: 0.6914     \n",
      "Epoch 9/150\n",
      "768/768 [==============================] - 0s - loss: 0.5958 - acc: 0.6927     \n",
      "Epoch 10/150\n",
      "768/768 [==============================] - 0s - loss: 0.5948 - acc: 0.6940     \n",
      "Epoch 11/150\n",
      "768/768 [==============================] - 0s - loss: 0.5897 - acc: 0.6953     \n",
      "Epoch 12/150\n",
      "768/768 [==============================] - 0s - loss: 0.5895 - acc: 0.6953     \n",
      "Epoch 13/150\n",
      "768/768 [==============================] - 0s - loss: 0.5893 - acc: 0.6901     \n",
      "Epoch 14/150\n",
      "768/768 [==============================] - 0s - loss: 0.5845 - acc: 0.6953     \n",
      "Epoch 15/150\n",
      "768/768 [==============================] - 0s - loss: 0.5794 - acc: 0.6953     \n",
      "Epoch 16/150\n",
      "768/768 [==============================] - 0s - loss: 0.5777 - acc: 0.7057     \n",
      "Epoch 17/150\n",
      "768/768 [==============================] - 0s - loss: 0.5773 - acc: 0.7070     \n",
      "Epoch 18/150\n",
      "768/768 [==============================] - 0s - loss: 0.5827 - acc: 0.6927     \n",
      "Epoch 19/150\n",
      "768/768 [==============================] - 0s - loss: 0.5755 - acc: 0.7070     \n",
      "Epoch 20/150\n",
      "768/768 [==============================] - 0s - loss: 0.5750 - acc: 0.7122     \n",
      "Epoch 21/150\n",
      "768/768 [==============================] - 0s - loss: 0.5694 - acc: 0.7083     \n",
      "Epoch 22/150\n",
      "768/768 [==============================] - 0s - loss: 0.5710 - acc: 0.6979     \n",
      "Epoch 23/150\n",
      "768/768 [==============================] - 0s - loss: 0.5685 - acc: 0.7057     \n",
      "Epoch 24/150\n",
      "768/768 [==============================] - 0s - loss: 0.5704 - acc: 0.7174     \n",
      "Epoch 25/150\n",
      "768/768 [==============================] - 0s - loss: 0.5630 - acc: 0.7135     \n",
      "Epoch 26/150\n",
      "768/768 [==============================] - 0s - loss: 0.5714 - acc: 0.7044     \n",
      "Epoch 27/150\n",
      "768/768 [==============================] - 0s - loss: 0.5639 - acc: 0.7135     \n",
      "Epoch 28/150\n",
      "768/768 [==============================] - 0s - loss: 0.5570 - acc: 0.7174     \n",
      "Epoch 29/150\n",
      "768/768 [==============================] - 0s - loss: 0.5597 - acc: 0.7201     \n",
      "Epoch 30/150\n",
      "768/768 [==============================] - 0s - loss: 0.5543 - acc: 0.7240     \n",
      "Epoch 31/150\n",
      "768/768 [==============================] - 0s - loss: 0.5543 - acc: 0.7188     \n",
      "Epoch 32/150\n",
      "768/768 [==============================] - 0s - loss: 0.5505 - acc: 0.7253     \n",
      "Epoch 33/150\n",
      "768/768 [==============================] - 0s - loss: 0.5486 - acc: 0.7135     \n",
      "Epoch 34/150\n",
      "768/768 [==============================] - 0s - loss: 0.5513 - acc: 0.7253     \n",
      "Epoch 35/150\n",
      "768/768 [==============================] - 0s - loss: 0.5451 - acc: 0.7266     \n",
      "Epoch 36/150\n",
      "768/768 [==============================] - 0s - loss: 0.5426 - acc: 0.7344     \n",
      "Epoch 37/150\n",
      "768/768 [==============================] - 0s - loss: 0.5397 - acc: 0.7318     \n",
      "Epoch 38/150\n",
      "768/768 [==============================] - 0s - loss: 0.5440 - acc: 0.7422     \n",
      "Epoch 39/150\n",
      "768/768 [==============================] - 0s - loss: 0.5398 - acc: 0.7331     \n",
      "Epoch 40/150\n",
      "768/768 [==============================] - 0s - loss: 0.5379 - acc: 0.7344     \n",
      "Epoch 41/150\n",
      "768/768 [==============================] - 0s - loss: 0.5335 - acc: 0.7409     \n",
      "Epoch 42/150\n",
      "768/768 [==============================] - 0s - loss: 0.5350 - acc: 0.7435     \n",
      "Epoch 43/150\n",
      "768/768 [==============================] - 0s - loss: 0.5249 - acc: 0.7500     \n",
      "Epoch 44/150\n",
      "768/768 [==============================] - 0s - loss: 0.5307 - acc: 0.7565     \n",
      "Epoch 45/150\n",
      "768/768 [==============================] - 0s - loss: 0.5304 - acc: 0.7461     \n",
      "Epoch 46/150\n",
      "768/768 [==============================] - 0s - loss: 0.5261 - acc: 0.7383     \n",
      "Epoch 47/150\n",
      "768/768 [==============================] - 0s - loss: 0.5228 - acc: 0.7669     \n",
      "Epoch 48/150\n",
      "768/768 [==============================] - 0s - loss: 0.5220 - acc: 0.7643     \n",
      "Epoch 49/150\n",
      "768/768 [==============================] - 0s - loss: 0.5168 - acc: 0.7578     \n",
      "Epoch 50/150\n",
      "768/768 [==============================] - 0s - loss: 0.5165 - acc: 0.7552     \n",
      "Epoch 51/150\n",
      "768/768 [==============================] - 0s - loss: 0.5143 - acc: 0.7630     \n",
      "Epoch 52/150\n",
      "768/768 [==============================] - 0s - loss: 0.5200 - acc: 0.7435     \n",
      "Epoch 53/150\n",
      "768/768 [==============================] - 0s - loss: 0.5123 - acc: 0.7604     \n",
      "Epoch 54/150\n",
      "768/768 [==============================] - 0s - loss: 0.5138 - acc: 0.7526     \n",
      "Epoch 55/150\n",
      "768/768 [==============================] - 0s - loss: 0.5109 - acc: 0.7643     \n",
      "Epoch 56/150\n",
      "768/768 [==============================] - 0s - loss: 0.5088 - acc: 0.7643     \n",
      "Epoch 57/150\n",
      "768/768 [==============================] - 0s - loss: 0.5055 - acc: 0.7591     \n",
      "Epoch 58/150\n",
      "768/768 [==============================] - 0s - loss: 0.5044 - acc: 0.7526     \n",
      "Epoch 59/150\n",
      "768/768 [==============================] - 0s - loss: 0.5010 - acc: 0.7682     \n",
      "Epoch 60/150\n",
      "768/768 [==============================] - 0s - loss: 0.5010 - acc: 0.7630     \n",
      "Epoch 61/150\n",
      "768/768 [==============================] - 0s - loss: 0.4955 - acc: 0.7604     \n",
      "Epoch 62/150\n",
      "768/768 [==============================] - 0s - loss: 0.4980 - acc: 0.7630     \n",
      "Epoch 63/150\n",
      "768/768 [==============================] - 0s - loss: 0.5089 - acc: 0.7695     \n",
      "Epoch 64/150\n",
      "768/768 [==============================] - 0s - loss: 0.4993 - acc: 0.7643     \n",
      "Epoch 65/150\n",
      "768/768 [==============================] - 0s - loss: 0.4949 - acc: 0.7721     \n",
      "Epoch 66/150\n",
      "768/768 [==============================] - 0s - loss: 0.4926 - acc: 0.7656     \n",
      "Epoch 67/150\n",
      "768/768 [==============================] - 0s - loss: 0.4891 - acc: 0.7656     \n",
      "Epoch 68/150\n",
      "768/768 [==============================] - 0s - loss: 0.4945 - acc: 0.7617     \n",
      "Epoch 69/150\n",
      "768/768 [==============================] - 0s - loss: 0.4865 - acc: 0.7656     \n",
      "Epoch 70/150\n",
      "768/768 [==============================] - 0s - loss: 0.4955 - acc: 0.7487     \n",
      "Epoch 71/150\n",
      "768/768 [==============================] - 0s - loss: 0.4890 - acc: 0.7656     \n",
      "Epoch 72/150\n",
      "768/768 [==============================] - 0s - loss: 0.4852 - acc: 0.7682     \n",
      "Epoch 73/150\n",
      "768/768 [==============================] - 0s - loss: 0.4805 - acc: 0.7617     \n",
      "Epoch 74/150\n",
      "768/768 [==============================] - 0s - loss: 0.4867 - acc: 0.7630     \n",
      "Epoch 75/150\n",
      "768/768 [==============================] - 0s - loss: 0.4842 - acc: 0.7695     \n",
      "Epoch 76/150\n",
      "768/768 [==============================] - 0s - loss: 0.4777 - acc: 0.7708     \n",
      "Epoch 77/150\n",
      "768/768 [==============================] - 0s - loss: 0.4812 - acc: 0.7682     \n",
      "Epoch 78/150\n",
      "768/768 [==============================] - 0s - loss: 0.4767 - acc: 0.7721     \n",
      "Epoch 79/150\n",
      "768/768 [==============================] - 0s - loss: 0.4858 - acc: 0.7526     \n",
      "Epoch 80/150\n",
      "768/768 [==============================] - 0s - loss: 0.4758 - acc: 0.7682     \n",
      "Epoch 81/150\n",
      "768/768 [==============================] - 0s - loss: 0.4759 - acc: 0.7578     \n",
      "Epoch 82/150\n",
      "768/768 [==============================] - 0s - loss: 0.4733 - acc: 0.7826     \n",
      "Epoch 83/150\n",
      "768/768 [==============================] - 0s - loss: 0.4736 - acc: 0.7669     \n",
      "Epoch 84/150\n",
      "768/768 [==============================] - 0s - loss: 0.4704 - acc: 0.7760     \n",
      "Epoch 85/150\n",
      "768/768 [==============================] - 0s - loss: 0.4726 - acc: 0.7643     \n",
      "Epoch 86/150\n",
      "768/768 [==============================] - 0s - loss: 0.4807 - acc: 0.7617     \n",
      "Epoch 87/150\n",
      "768/768 [==============================] - 0s - loss: 0.4760 - acc: 0.7826     \n",
      "Epoch 88/150\n",
      "768/768 [==============================] - 0s - loss: 0.4669 - acc: 0.7747     \n",
      "Epoch 89/150\n",
      "768/768 [==============================] - 0s - loss: 0.4729 - acc: 0.7682     \n",
      "Epoch 90/150\n",
      "768/768 [==============================] - 0s - loss: 0.4723 - acc: 0.7643     \n",
      "Epoch 91/150\n",
      "768/768 [==============================] - 0s - loss: 0.4679 - acc: 0.7708     \n",
      "Epoch 92/150\n",
      "768/768 [==============================] - 0s - loss: 0.4722 - acc: 0.7773     \n",
      "Epoch 93/150\n",
      "768/768 [==============================] - 0s - loss: 0.4673 - acc: 0.7682     \n",
      "Epoch 94/150\n",
      "768/768 [==============================] - 0s - loss: 0.4703 - acc: 0.7708     \n",
      "Epoch 95/150\n",
      "768/768 [==============================] - 0s - loss: 0.4645 - acc: 0.7695     \n",
      "Epoch 96/150\n",
      "768/768 [==============================] - 0s - loss: 0.4672 - acc: 0.7839     \n",
      "Epoch 97/150\n",
      "768/768 [==============================] - 0s - loss: 0.4639 - acc: 0.7852     \n",
      "Epoch 98/150\n",
      "768/768 [==============================] - 0s - loss: 0.4655 - acc: 0.7865     \n",
      "Epoch 99/150\n",
      "768/768 [==============================] - 0s - loss: 0.4581 - acc: 0.7878     \n",
      "Epoch 100/150\n",
      "768/768 [==============================] - 0s - loss: 0.4594 - acc: 0.7930     \n",
      "Epoch 101/150\n",
      "768/768 [==============================] - 0s - loss: 0.4674 - acc: 0.7773     \n",
      "Epoch 102/150\n",
      "768/768 [==============================] - 0s - loss: 0.4637 - acc: 0.7826     \n",
      "Epoch 103/150\n",
      "768/768 [==============================] - 0s - loss: 0.4748 - acc: 0.7669     \n",
      "Epoch 104/150\n",
      "768/768 [==============================] - 0s - loss: 0.4645 - acc: 0.7812     \n",
      "Epoch 105/150\n",
      "768/768 [==============================] - 0s - loss: 0.4785 - acc: 0.7643     \n",
      "Epoch 106/150\n",
      "768/768 [==============================] - 0s - loss: 0.4602 - acc: 0.7839     \n",
      "Epoch 107/150\n",
      "768/768 [==============================] - 0s - loss: 0.4615 - acc: 0.7852     \n",
      "Epoch 108/150\n",
      "768/768 [==============================] - 0s - loss: 0.4667 - acc: 0.7734     \n",
      "Epoch 109/150\n",
      "768/768 [==============================] - 0s - loss: 0.4587 - acc: 0.7786     \n",
      "Epoch 110/150\n",
      "768/768 [==============================] - 0s - loss: 0.4612 - acc: 0.7760     \n",
      "Epoch 111/150\n",
      "768/768 [==============================] - 0s - loss: 0.4599 - acc: 0.7956     \n",
      "Epoch 112/150\n",
      "768/768 [==============================] - 0s - loss: 0.4604 - acc: 0.7721     \n",
      "Epoch 113/150\n",
      "768/768 [==============================] - 0s - loss: 0.4685 - acc: 0.7813     \n",
      "Epoch 114/150\n",
      "768/768 [==============================] - 0s - loss: 0.4688 - acc: 0.7669     \n",
      "Epoch 115/150\n",
      "768/768 [==============================] - 0s - loss: 0.4582 - acc: 0.7799     \n",
      "Epoch 116/150\n",
      "768/768 [==============================] - 0s - loss: 0.4653 - acc: 0.7799     \n",
      "Epoch 117/150\n",
      "768/768 [==============================] - 0s - loss: 0.4572 - acc: 0.7773     \n",
      "Epoch 118/150\n",
      "768/768 [==============================] - 0s - loss: 0.4631 - acc: 0.7734     \n",
      "Epoch 119/150\n",
      "768/768 [==============================] - 0s - loss: 0.4559 - acc: 0.7747     \n",
      "Epoch 120/150\n",
      "768/768 [==============================] - 0s - loss: 0.4586 - acc: 0.7760     \n",
      "Epoch 121/150\n",
      "768/768 [==============================] - 0s - loss: 0.4608 - acc: 0.7917     \n",
      "Epoch 122/150\n",
      "768/768 [==============================] - 0s - loss: 0.4528 - acc: 0.7812     \n",
      "Epoch 123/150\n",
      "768/768 [==============================] - 0s - loss: 0.4570 - acc: 0.7708     \n",
      "Epoch 124/150\n",
      "768/768 [==============================] - 0s - loss: 0.4526 - acc: 0.7826     \n",
      "Epoch 125/150\n",
      "768/768 [==============================] - 0s - loss: 0.4587 - acc: 0.7799     \n",
      "Epoch 126/150\n",
      "768/768 [==============================] - 0s - loss: 0.4540 - acc: 0.7826     \n",
      "Epoch 127/150\n",
      "768/768 [==============================] - 0s - loss: 0.4638 - acc: 0.7799     \n",
      "Epoch 128/150\n",
      "768/768 [==============================] - 0s - loss: 0.4514 - acc: 0.7799     \n",
      "Epoch 129/150\n",
      "768/768 [==============================] - 0s - loss: 0.4630 - acc: 0.7956     \n",
      "Epoch 130/150\n",
      "768/768 [==============================] - 0s - loss: 0.4489 - acc: 0.7865     \n",
      "Epoch 131/150\n",
      "768/768 [==============================] - 0s - loss: 0.4590 - acc: 0.7878     \n",
      "Epoch 132/150\n",
      "768/768 [==============================] - 0s - loss: 0.4526 - acc: 0.7812     \n",
      "Epoch 133/150\n",
      "768/768 [==============================] - 0s - loss: 0.4598 - acc: 0.7643     \n",
      "Epoch 134/150\n",
      "768/768 [==============================] - 0s - loss: 0.4565 - acc: 0.7669     \n",
      "Epoch 135/150\n",
      "768/768 [==============================] - 0s - loss: 0.4522 - acc: 0.7786     \n",
      "Epoch 136/150\n",
      "768/768 [==============================] - 0s - loss: 0.4493 - acc: 0.7773     \n",
      "Epoch 137/150\n",
      "768/768 [==============================] - 0s - loss: 0.4549 - acc: 0.7878     \n",
      "Epoch 138/150\n",
      "768/768 [==============================] - 0s - loss: 0.4587 - acc: 0.7747     \n",
      "Epoch 139/150\n",
      "768/768 [==============================] - 0s - loss: 0.4439 - acc: 0.7839     \n",
      "Epoch 140/150\n",
      "768/768 [==============================] - 0s - loss: 0.4572 - acc: 0.7799     \n",
      "Epoch 141/150\n",
      "768/768 [==============================] - 0s - loss: 0.4496 - acc: 0.7734     \n",
      "Epoch 142/150\n",
      "768/768 [==============================] - 0s - loss: 0.4610 - acc: 0.7695     \n",
      "Epoch 143/150\n",
      "768/768 [==============================] - 0s - loss: 0.4507 - acc: 0.7786     \n",
      "Epoch 144/150\n",
      "768/768 [==============================] - 0s - loss: 0.4496 - acc: 0.7865     \n",
      "Epoch 145/150\n",
      "768/768 [==============================] - 0s - loss: 0.4643 - acc: 0.7695     \n",
      "Epoch 146/150\n",
      "768/768 [==============================] - 0s - loss: 0.4528 - acc: 0.7786     \n",
      "Epoch 147/150\n",
      "768/768 [==============================] - 0s - loss: 0.4543 - acc: 0.7812     \n",
      "Epoch 148/150\n",
      "768/768 [==============================] - 0s - loss: 0.4460 - acc: 0.7956     \n",
      "Epoch 149/150\n",
      "768/768 [==============================] - 0s - loss: 0.4489 - acc: 0.7943     \n",
      "Epoch 150/150\n",
      "768/768 [==============================] - 0s - loss: 0.4478 - acc: 0.7839     \n"
     ]
    },
    {
     "data": {
      "text/plain": [
       "<keras.callbacks.History at 0x111c260d0>"
      ]
     },
     "execution_count": 86,
     "metadata": {},
     "output_type": "execute_result"
    }
   ],
   "source": [
    "# Fit the model\n",
    "model.fit(X, Y, nb_epoch=150, batch_size=10)"
   ]
  },
  {
   "cell_type": "code",
   "execution_count": 105,
   "metadata": {
    "collapsed": false
   },
   "outputs": [
    {
     "name": "stdout",
     "output_type": "stream",
     "text": [
      " 32/768 [>.............................] - ETA: 0sacc: 78.65%\n"
     ]
    }
   ],
   "source": [
    "# evaluate the model\n",
    "scores = model.evaluate(X, Y)\n",
    "print(\"%s: %.2f%%\" % (model.metrics_names[1], scores[1]*100))"
   ]
  },
  {
   "cell_type": "code",
   "execution_count": 90,
   "metadata": {
    "collapsed": true
   },
   "outputs": [],
   "source": [
    "model_json = model.to_json()"
   ]
  },
  {
   "cell_type": "code",
   "execution_count": 91,
   "metadata": {
    "collapsed": true
   },
   "outputs": [],
   "source": [
    "with open(\"model.json\", \"w\") as json_file:\n",
    "    json_file.write(model_json)"
   ]
  },
  {
   "cell_type": "code",
   "execution_count": 92,
   "metadata": {
    "collapsed": false
   },
   "outputs": [],
   "source": [
    "model.save_weights(\"model.h5\")"
   ]
  },
  {
   "cell_type": "code",
   "execution_count": 58,
   "metadata": {
    "collapsed": false
   },
   "outputs": [],
   "source": []
  },
  {
   "cell_type": "code",
   "execution_count": 106,
   "metadata": {
    "collapsed": false
   },
   "outputs": [],
   "source": [
    "## Why the accuaracy is different every time I run this cell? => coz I forgot to load the weights...\n",
    "\n",
    "json_file = open('model.json', 'r') \n",
    "loaded_model_json = json_file.read() \n",
    "json_file.close()\n",
    "loaded_model = model_from_json(loaded_model_json)\n",
    "loaded_model.load_weights(\"model.h5\")# load weights into new model loaded_model.load_weights(\"model.h5\") print(\"Loaded model from disk\")\n",
    "loaded_model.compile(loss='binary_crossentropy', optimizer='rmsprop', metrics=['accuracy']) "
   ]
  },
  {
   "cell_type": "code",
   "execution_count": 107,
   "metadata": {
    "collapsed": false
   },
   "outputs": [
    {
     "name": "stdout",
     "output_type": "stream",
     "text": [
      "acc: 78.65%\n"
     ]
    }
   ],
   "source": [
    "\n",
    "# evaluate loaded model on test data\n",
    "\n",
    "score = loaded_model.evaluate(X, Y, verbose=0)\n",
    "print \"%s: %.2f%%\" % (loaded_model.metrics_names[1], score[1]*100)"
   ]
  },
  {
   "cell_type": "code",
   "execution_count": null,
   "metadata": {
    "collapsed": true
   },
   "outputs": [],
   "source": []
  }
 ],
 "metadata": {
  "kernelspec": {
   "display_name": "Python 2",
   "language": "python",
   "name": "python2"
  },
  "language_info": {
   "codemirror_mode": {
    "name": "ipython",
    "version": 2
   },
   "file_extension": ".py",
   "mimetype": "text/x-python",
   "name": "python",
   "nbconvert_exporter": "python",
   "pygments_lexer": "ipython2",
   "version": "2.7.11"
  }
 },
 "nbformat": 4,
 "nbformat_minor": 0
}
